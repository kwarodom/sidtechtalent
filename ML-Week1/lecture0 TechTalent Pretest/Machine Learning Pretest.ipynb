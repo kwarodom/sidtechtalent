{
 "cells": [
  {
   "cell_type": "markdown",
   "metadata": {},
   "source": [
    "# Machine Learning Pretest\n",
    "## First Part: Multiple Choices\n",
    "## https://goo.gl/forms/L3L2RH9NMQtGPe4I2"
   ]
  },
  {
   "cell_type": "markdown",
   "metadata": {},
   "source": [
    "## Second Part: Coding Exercise"
   ]
  },
  {
   "cell_type": "markdown",
   "metadata": {},
   "source": [
    "## Exercise 1\n",
    "### Simulate N coin flips and count number of head and number of tail"
   ]
  },
  {
   "cell_type": "code",
   "execution_count": null,
   "metadata": {
    "collapsed": true
   },
   "outputs": [],
   "source": [
    "def simulate_coin_flips(N, p):\n",
    "    number of head = 0\n",
    "    number of tail = 0\n",
    "    for i in range(N):\n",
    "        rand = random.uniform(0, 1)\n",
    "        if rand < p : \n",
    "            number_of_head = number_of_head + 1\n",
    "        else: \n",
    "            number_of_tail = number_of_tail + 1\n",
    "    return (number_of_head, number_of_tail)"
   ]
  },
  {
   "cell_type": "markdown",
   "metadata": {},
   "source": [
    "## Exercise 2\n",
    "### Write a program to simulate data and answer this question: How many coin flips on average does it take to get n consecutive heads?"
   ]
  },
  {
   "cell_type": "code",
   "execution_count": 1,
   "metadata": {
    "collapsed": true
   },
   "outputs": [],
   "source": [
    "def average_coin_flips_until_n_heads(n, p):\n",
    "    \"\"\"\n",
    "    return the answer\n",
    "    \"\"\"\n",
    "    sim_num = 100\n",
    "    count = 0\n",
    "    avg = 0\n",
    "    while (count < sim_num):\n",
    "        count_2 = 0\n",
    "        number_of_head = 0\n",
    "        while (number_of_head < n):\n",
    "            rand = random.uniform(0, 1)\n",
    "            if rand < p : \n",
    "                number_of_head = number_of_head + 1\n",
    "            count_2 = count_2 + 1\n",
    "        avg = avg + count_2\n",
    "        count = count+1\n",
    "    return avg/count"
   ]
  },
  {
   "cell_type": "markdown",
   "metadata": {},
   "source": [
    "## Exercise 3\n",
    "### Fit linear regression on the simulated data below and show that the fitted parameters are correct"
   ]
  },
  {
   "cell_type": "code",
   "execution_count": 20,
   "metadata": {
    "collapsed": true
   },
   "outputs": [],
   "source": [
    "import numpy as np\n",
    "\n",
    "x = np.random.normal(size=(100,2))\n",
    "y = 4 + 3 * x[:,0] + 5 * x[:,1]"
   ]
  },
  {
   "cell_type": "code",
   "execution_count": 29,
   "metadata": {},
   "outputs": [
    {
     "data": {
      "text/plain": [
       "array([ 0.18339146])"
      ]
     },
     "execution_count": 29,
     "metadata": {},
     "output_type": "execute_result"
    }
   ],
   "source": [
    "\"\"\"\n",
    "YOUR CODE HERE\n",
    "\"\"\"\n",
    "from sklearn import linear_model\n",
    "clf = linear_model.LinearRegression()\n",
    "clf.fit(x, y)\n",
    "clf.score(x,y)\n",
    "clf.predict([[-0.95385368, -0.1910095]])"
   ]
  },
  {
   "cell_type": "markdown",
   "metadata": {},
   "source": [
    "## Exercise 4\n",
    "### Given credit card fraud data below, fit a classification model on the trainData and evaluate the model on the testData using Area under curve of ROC (AUC) as a metric\n",
    "### The label column is \"Class\" and other columns are anonymized features\n",
    "### The data is sample from this dataset: https://www.kaggle.com/dalpozz/creditcardfraud"
   ]
  },
  {
   "cell_type": "code",
   "execution_count": 50,
   "metadata": {
    "collapsed": true
   },
   "outputs": [],
   "source": [
    "import pandas as pd"
   ]
  },
  {
   "cell_type": "code",
   "execution_count": 51,
   "metadata": {
    "collapsed": true
   },
   "outputs": [],
   "source": [
    "trainData = pd.read_csv(\"trainData.csv\")"
   ]
  },
  {
   "cell_type": "code",
   "execution_count": 52,
   "metadata": {
    "collapsed": true
   },
   "outputs": [],
   "source": [
    "testData = pd.read_csv(\"testData.csv\")"
   ]
  },
  {
   "cell_type": "code",
   "execution_count": 53,
   "metadata": {},
   "outputs": [
    {
     "data": {
      "text/plain": [
       "LogisticRegression(C=100000.0, class_weight=None, dual=False,\n",
       "          fit_intercept=True, intercept_scaling=1, max_iter=100,\n",
       "          multi_class='ovr', n_jobs=1, penalty='l2', random_state=None,\n",
       "          solver='liblinear', tol=0.0001, verbose=0, warm_start=False)"
      ]
     },
     "execution_count": 53,
     "metadata": {},
     "output_type": "execute_result"
    }
   ],
   "source": [
    "\"\"\"\n",
    "YOUR CODE HERE\n",
    "\"\"\"\n",
    "logreg = linear_model.LogisticRegression(C=1e5)\n",
    "logreg.fit(trainData.loc[:, :'Amount'], trainData.loc[:, 'Class'])"
   ]
  },
  {
   "cell_type": "code",
   "execution_count": 54,
   "metadata": {},
   "outputs": [
    {
     "data": {
      "text/plain": [
       "0.97759999999999991"
      ]
     },
     "execution_count": 54,
     "metadata": {},
     "output_type": "execute_result"
    }
   ],
   "source": [
    "import numpy as np\n",
    "from sklearn.metrics import roc_auc_score\n",
    "y_true = testData.loc[:, 'Class']\n",
    "con_scores = logreg.decision_function(testData.loc[:, :'Amount'])\n",
    "y_scores = np.array(con_scores)\n",
    "roc_auc_score(y_true, y_scores)\n"
   ]
  }
 ],
 "metadata": {
  "kernelspec": {
   "display_name": "Python 3",
   "language": "python",
   "name": "python3"
  },
  "language_info": {
   "codemirror_mode": {
    "name": "ipython",
    "version": 3
   },
   "file_extension": ".py",
   "mimetype": "text/x-python",
   "name": "python",
   "nbconvert_exporter": "python",
   "pygments_lexer": "ipython3",
   "version": "3.6.1"
  }
 },
 "nbformat": 4,
 "nbformat_minor": 2
}
