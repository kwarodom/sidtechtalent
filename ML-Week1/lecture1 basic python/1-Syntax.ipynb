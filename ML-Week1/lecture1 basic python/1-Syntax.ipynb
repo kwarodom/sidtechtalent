{
 "cells": [
  {
   "cell_type": "markdown",
   "metadata": {},
   "source": [
    "Syntax : Basic"
   ]
  },
  {
   "cell_type": "code",
   "execution_count": 1,
   "metadata": {
    "collapsed": true
   },
   "outputs": [],
   "source": [
    "def main():\n",
    "    print(\"This is the syntax.py file.\")\n",
    "    egg()"
   ]
  },
  {
   "cell_type": "code",
   "execution_count": 2,
   "metadata": {
    "collapsed": true
   },
   "outputs": [],
   "source": [
    "def egg():\n",
    "    print(\"egg\")   "
   ]
  },
  {
   "cell_type": "code",
   "execution_count": 3,
   "metadata": {},
   "outputs": [
    {
     "name": "stdout",
     "output_type": "stream",
     "text": [
      "This is the syntax.py file.\n",
      "egg\n"
     ]
    }
   ],
   "source": [
    "if __name__ == \"__main__\": main() #allows us to call a method inside main before calling it, can call function in any order\n",
    "                                  #allows us to only be run when this when this file is called as the main module\n",
    "                                  #module typically contains classes and functions\n",
    "                                  #normally we have a test suite at the end of the module"
   ]
  },
  {
   "cell_type": "markdown",
   "metadata": {},
   "source": [
    "Syntax : variable and working"
   ]
  },
  {
   "cell_type": "code",
   "execution_count": 4,
   "metadata": {
    "collapsed": true
   },
   "outputs": [],
   "source": [
    "def main():\n",
    "    a = [1, 2, 3, 4, 5]\n",
    "    print(a)\n",
    "    a, b = 0, 1\n",
    "    a, b = b, a\n",
    "    print(a, b)\n",
    "    print(\"This is the syntax.py file.\")"
   ]
  },
  {
   "cell_type": "code",
   "execution_count": 5,
   "metadata": {},
   "outputs": [
    {
     "name": "stdout",
     "output_type": "stream",
     "text": [
      "[1, 2, 3, 4, 5]\n",
      "1 0\n",
      "This is the syntax.py file.\n"
     ]
    }
   ],
   "source": [
    "if __name__ == \"__main__\": main() #allows us to call a method inside main before calling it, can call function in any order\n",
    "                                  #allows us to only be run when this when this file is called as the main module\n",
    "                                  #module typically contains classes and functions\n",
    "                                  #normally we have a test suite at the end of the module"
   ]
  },
  {
   "cell_type": "markdown",
   "metadata": {},
   "source": [
    "Syntax : Printout and whitespace"
   ]
  },
  {
   "cell_type": "code",
   "execution_count": 6,
   "metadata": {
    "collapsed": true
   },
   "outputs": [],
   "source": [
    "def main():\n",
    "    print(\"This is the syntax.py file.\") #indentation has to be consistent\n",
    "    print(\"this is another line\")  "
   ]
  },
  {
   "cell_type": "code",
   "execution_count": 7,
   "metadata": {},
   "outputs": [
    {
     "name": "stdout",
     "output_type": "stream",
     "text": [
      "This is the syntax.py file.\n",
      "this is another line\n"
     ]
    }
   ],
   "source": [
    "if __name__ == \"__main__\": main() #allows us to call a method inside main before calling it, can call function in any order\n",
    "                                  #allows us to only be run when this when this file is called as the main module\n",
    "                                  #module typically contains classes and functions\n",
    "                                  #normally we have a test suite at the end of the module"
   ]
  },
  {
   "cell_type": "markdown",
   "metadata": {},
   "source": [
    "Syntax : Conditions"
   ]
  },
  {
   "cell_type": "code",
   "execution_count": 8,
   "metadata": {
    "collapsed": true
   },
   "outputs": [],
   "source": [
    "def main():\n",
    "    a, b = 0, 1\n",
    "    #1. conditional expression\n",
    "    s = \"less than\" if a < b else \"not less than\"\n",
    "    print(s)\n",
    "    \n",
    "    #2. conditional\n",
    "    if a < b:\n",
    "        print(\"a is less than b\")\n",
    "    elif a > b:\n",
    "        print(\"a is greater than b\")\n",
    "    else:\n",
    "        print(\"a is equal to b\")"
   ]
  },
  {
   "cell_type": "code",
   "execution_count": 9,
   "metadata": {},
   "outputs": [
    {
     "name": "stdout",
     "output_type": "stream",
     "text": [
      "less than\n",
      "a is less than b\n"
     ]
    }
   ],
   "source": [
    "if __name__ == \"__main__\": main() #allows us to call a method inside main before calling it, can call function in any order\n",
    "                                  #allows us to only be run when this when this file is called as the main module\n",
    "                                  #module typically contains classes and functions\n",
    "                                  #normally we have a test suite at the end of the module"
   ]
  },
  {
   "cell_type": "markdown",
   "metadata": {},
   "source": [
    "Syntax : Functions"
   ]
  },
  {
   "cell_type": "code",
   "execution_count": 10,
   "metadata": {
    "collapsed": true
   },
   "outputs": [],
   "source": [
    "def main():\n",
    "    print(\"This is the syntax.py file.\")\n",
    "    func(1)\n",
    "    func(3)\n",
    "    func(5)\n",
    "    func()"
   ]
  },
  {
   "cell_type": "code",
   "execution_count": 11,
   "metadata": {
    "collapsed": true
   },
   "outputs": [],
   "source": [
    "def func(a=7): #7 is default argument\n",
    "    for i in range(a, 10):\n",
    "        print(i, end=' ')\n",
    "    print()    "
   ]
  },
  {
   "cell_type": "code",
   "execution_count": 12,
   "metadata": {},
   "outputs": [
    {
     "name": "stdout",
     "output_type": "stream",
     "text": [
      "This is the syntax.py file.\n",
      "1 2 3 4 5 6 7 8 9 \n",
      "3 4 5 6 7 8 9 \n",
      "5 6 7 8 9 \n",
      "7 8 9 \n"
     ]
    }
   ],
   "source": [
    "if __name__ == \"__main__\": main() #allows us to call a method inside main before calling it, can call function in any order\n",
    "                                  #allows us to only be run when this when this file is called as the main module\n",
    "                                  #module typically contains classes and functions\n",
    "                                  #normally we have a test suite at the end of the module"
   ]
  },
  {
   "cell_type": "markdown",
   "metadata": {},
   "source": [
    "Syntax : Objects"
   ]
  },
  {
   "cell_type": "code",
   "execution_count": null,
   "metadata": {
    "collapsed": true
   },
   "outputs": [],
   "source": [
    "class Egg:\n",
    "    #1. constructor\n",
    "    def __init__(self, kind=\"fried\"): \n",
    "        self.kind = kind\n",
    "    #2. method\n",
    "    def whatkind(self):\n",
    "        return self.kind    "
   ]
  },
  {
   "cell_type": "code",
   "execution_count": null,
   "metadata": {
    "collapsed": true
   },
   "outputs": [],
   "source": [
    "def main():\n",
    "    print(\"This is the syntax.py file.\")  \n",
    "    scrambled = Egg('scrambled')\n",
    "    print(scrambled.whatkind())\n",
    "    fried = Egg() #use default constructor\n",
    "    print(fried.whatkind()) "
   ]
  },
  {
   "cell_type": "code",
   "execution_count": null,
   "metadata": {
    "collapsed": true
   },
   "outputs": [],
   "source": [
    "if __name__ == \"__main__\": main() #allows us to call a method inside main before calling it, can call function in any order\n",
    "                                  #allows us to only be run when this when this file is called as the main module\n",
    "                                  #module typically contains classes and functions\n",
    "                                  #normally we have a test suite at the end of the module"
   ]
  },
  {
   "cell_type": "markdown",
   "metadata": {},
   "source": [
    "Syntax : Example"
   ]
  },
  {
   "cell_type": "code",
   "execution_count": null,
   "metadata": {
    "collapsed": true
   },
   "outputs": [],
   "source": [
    "def main():\n",
    "    for n in primes(): #generate a list of prime numbers \n",
    "        if n > 100: break\n",
    "        print(n)"
   ]
  },
  {
   "cell_type": "code",
   "execution_count": null,
   "metadata": {
    "collapsed": true
   },
   "outputs": [],
   "source": [
    "def isprime(n):\n",
    "    if n == 1: #one is never prime        \n",
    "        return False\n",
    "    for x in range(2, n):\n",
    "        if n % x == 0: \n",
    "            return False #found a divisor, not prime\n",
    "    else:\n",
    "        return True"
   ]
  },
  {
   "cell_type": "code",
   "execution_count": null,
   "metadata": {
    "collapsed": true
   },
   "outputs": [],
   "source": [
    "def primes(n = 1):\n",
    "   while(True):\n",
    "       if isprime(n): yield n #yield makes this a generator\n",
    "       n += 1 "
   ]
  },
  {
   "cell_type": "code",
   "execution_count": null,
   "metadata": {
    "collapsed": true
   },
   "outputs": [],
   "source": [
    "if __name__ == \"__main__\": main()"
   ]
  }
 ],
 "metadata": {
  "kernelspec": {
   "display_name": "Python 3",
   "language": "python",
   "name": "python3"
  },
  "language_info": {
   "codemirror_mode": {
    "name": "ipython",
    "version": 3
   },
   "file_extension": ".py",
   "mimetype": "text/x-python",
   "name": "python",
   "nbconvert_exporter": "python",
   "pygments_lexer": "ipython3",
   "version": "3.5.3"
  }
 },
 "nbformat": 4,
 "nbformat_minor": 2
}
