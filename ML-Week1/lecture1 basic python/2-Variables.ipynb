{
 "cells": [
  {
   "cell_type": "markdown",
   "metadata": {},
   "source": [
    "Variables - String"
   ]
  },
  {
   "cell_type": "code",
   "execution_count": null,
   "metadata": {
    "collapsed": true
   },
   "outputs": [],
   "source": [
    "def main():\n",
    "    print(\"This is the variables.py file.\")\n",
    "    s = 'This is a String'\n",
    "    print(s)\n",
    "    s = \"This is another String\"\n",
    "    print(s)\n",
    "    s = \"This is another\\n String\"\n",
    "    print(s)\n",
    "    s = r\"This is a raw\\n String\" #raw string\n",
    "    print(s)\n",
    "    n = 42\n",
    "    s = \"This is another {} String\".format(n) # Python3\n",
    "    print(s)\n",
    "    s = \"This is a %s string!\" % n # Python2 obsolescence don't use this \n",
    "    print(s)\n",
    "    s = ''' This is a String ''' # allows to expand a string to several lines\n",
    "    print(s)\n",
    "    #below is used to escape a new (blank) line \n",
    "    \n",
    "    s = '''\\This is a String line after line of text and more text.'''\n",
    "    print(s)"
   ]
  },
  {
   "cell_type": "code",
   "execution_count": null,
   "metadata": {},
   "outputs": [],
   "source": [
    "if __name__ == \"__main__\": main()"
   ]
  },
  {
   "cell_type": "markdown",
   "metadata": {},
   "source": [
    "Variables - Numbers"
   ]
  },
  {
   "cell_type": "code",
   "execution_count": null,
   "metadata": {
    "collapsed": true
   },
   "outputs": [],
   "source": [
    "def main():\n",
    "    print(\"This is the variables.py file.\")\n",
    "    num = round(6/4,2)\n",
    "    print(type(num),num)\n",
    "    num = 42\n",
    "    print(type(num), num)\n",
    "    num = 42//9\n",
    "    print(type(num), num)\n",
    "    num = round(42/9,2)\n",
    "    print(type(num), num)\n",
    "    num = 42%9\n",
    "    print(type(num), num)\n",
    "    num = int(42.7)\n",
    "    print(type(num), num)\n",
    "    num = float(42)\n",
    "    print(type(num), num)"
   ]
  },
  {
   "cell_type": "code",
   "execution_count": null,
   "metadata": {},
   "outputs": [],
   "source": [
    "if __name__ == \"__main__\": main()"
   ]
  },
  {
   "cell_type": "markdown",
   "metadata": {
    "collapsed": true
   },
   "source": [
    "Variables - Lists"
   ]
  },
  {
   "cell_type": "code",
   "execution_count": null,
   "metadata": {
    "collapsed": true
   },
   "outputs": [],
   "source": [
    "def main():\n",
    "    print(\"This is the variables.py file.\")\n",
    "    #Tuple type: immutable\n",
    "    x = (1,2,3)\n",
    "    print(type(x),x)  #this is tuple -> immutable object cannot change anything FIX!!\n",
    "    \n",
    "    #List type: mutable \n",
    "    y = [1,2,3]\n",
    "    print(type(y),y)  #this is list -> mutable can change/add values\n",
    "    y.append(5)\n",
    "    print(type(y),y)\n",
    "    y.insert(0,7)\n",
    "    print(type(y),y)\n",
    "    y.insert(2,9)\n",
    "    print(type(y),y)\n",
    "    \n",
    "    z = 'string'  #string is also a list just like any sequential type\n",
    "    print(type(z),z[2])\n",
    "    print(type(z),z[2:4]) #called slice start at index 2 end at index 4 not return last element \n",
    "    \n",
    "    x=(1,2,3,4,5) #immutable tuple\n",
    "    for i in x: \n",
    "        print(i)\n",
    "    \n",
    "    for i in z: \n",
    "        print(i)"
   ]
  },
  {
   "cell_type": "code",
   "execution_count": null,
   "metadata": {},
   "outputs": [],
   "source": [
    "if __name__ == \"__main__\": main()"
   ]
  },
  {
   "cell_type": "markdown",
   "metadata": {},
   "source": [
    "Variables - Dictionary"
   ]
  },
  {
   "cell_type": "code",
   "execution_count": null,
   "metadata": {
    "collapsed": true
   },
   "outputs": [],
   "source": [
    "def main():\n",
    "    d = {'one':1, 'two':2, 'three':3, 'four':4, 'five':5}\n",
    "    print(d)\n",
    "    \n",
    "    #create Dictionaries objects\n",
    "    for k in d:\n",
    "        print(k, d[k])  #k is key(index), d[k] is value\n",
    "        \n",
    "    for k in sorted(d.keys()):  #sort by alphabetical order\n",
    "        print(k, d[k])  #k is index, d[k] is value    \n",
    "    \n",
    "    # can use this instead \n",
    "    di = dict(\n",
    "              one =1, two=2, three=3, four=4, five = 'five'\n",
    "              )    \n",
    "    \n",
    "    for k in sorted(di.keys()):  #sort by alphabetical order\n",
    "        print(k, di[k])  #k is index, d[k] is value  \n",
    "    \n",
    "    #add value to this mutable dictionary\n",
    "    di['seven']=7    \n",
    "    for k in sorted(di.keys()):  #sort by alphabetical order\n",
    "        print(k, di[k])  #k is index, d[k] is value      \n",
    "        \n",
    "    print(\"This is the variables.py file.\")"
   ]
  },
  {
   "cell_type": "code",
   "execution_count": null,
   "metadata": {},
   "outputs": [],
   "source": [
    "if __name__ == \"__main__\": main()"
   ]
  }
 ],
 "metadata": {
  "kernelspec": {
   "display_name": "Python 3",
   "language": "python",
   "name": "python3"
  },
  "language_info": {
   "codemirror_mode": {
    "name": "ipython",
    "version": 3
   },
   "file_extension": ".py",
   "mimetype": "text/x-python",
   "name": "python",
   "nbconvert_exporter": "python",
   "pygments_lexer": "ipython3",
   "version": "3.6.2"
  }
 },
 "nbformat": 4,
 "nbformat_minor": 2
}
