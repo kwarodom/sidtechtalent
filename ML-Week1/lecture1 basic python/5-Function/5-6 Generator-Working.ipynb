{
 "cells": [
  {
   "cell_type": "markdown",
   "metadata": {},
   "source": [
    "Generator-working"
   ]
  },
  {
   "cell_type": "code",
   "execution_count": 1,
   "metadata": {
    "collapsed": true
   },
   "outputs": [],
   "source": [
    "def main():\n",
    "    try:\n",
    "        print(\"This is the functions.py file.\")\n",
    "        for i in inclusive_range(0,25,1):\n",
    "            print(i, end = ' ')\n",
    "        \n",
    "        print()   \n",
    "        for n in inclusive_range2(5,25,4):\n",
    "            print(n, end = ' ')\n",
    "            \n",
    "        print()  \n",
    "        for n in inclusive_range2(10):\n",
    "            print(n, end = ' ')\n",
    "        \n",
    "        print()  \n",
    "        for n in inclusive_range2(10, 25):\n",
    "            print(n, end = ' ')\n",
    "        \n",
    "        '''print()  \n",
    "        for n in inclusive_range2():\n",
    "            print(n, end = ' ')'''\n",
    "        \n",
    "        print()  \n",
    "        for n in inclusive_range2(10, 25, 3, 4):\n",
    "            print(n, end = ' ')\n",
    "        \n",
    "        print()  \n",
    "        for n in inclusive_range2():\n",
    "            print(n, end = ' ')\n",
    "            \n",
    "    except TypeError as t:\n",
    "        print('Please check number of argument(s)', t)"
   ]
  },
  {
   "cell_type": "code",
   "execution_count": 2,
   "metadata": {
    "collapsed": true
   },
   "outputs": [],
   "source": [
    "#generator function"
   ]
  },
  {
   "cell_type": "code",
   "execution_count": 3,
   "metadata": {
    "collapsed": true
   },
   "outputs": [],
   "source": [
    "def inclusive_range(start, stop, step):\n",
    "    i = start\n",
    "    while i <= stop:\n",
    "        yield i #the different between yield and return is that every time yield run it keeps continue through the loop\n",
    "        i+= step"
   ]
  },
  {
   "cell_type": "code",
   "execution_count": 4,
   "metadata": {
    "collapsed": true
   },
   "outputs": [],
   "source": [
    "#let's make generator function to be polymorphic"
   ]
  },
  {
   "cell_type": "code",
   "execution_count": 5,
   "metadata": {
    "collapsed": true
   },
   "outputs": [],
   "source": [
    "def inclusive_range2(*args): #input is tuple\n",
    "    numargs = len(args)   #args is tuple\n",
    "    if numargs < 1: raise TypeError('require at least one argument')\n",
    "    elif numargs ==1: \n",
    "        stop = args[0]\n",
    "        start = 0\n",
    "        step = 1\n",
    "    elif numargs ==2:\n",
    "        (start, stop) = args\n",
    "        step = 1\n",
    "    elif numargs ==3:\n",
    "        (start, stop, step) = args\n",
    "    else: raise TypeError('inclusive_range2 expected at most 3 arguments, got {}'.format(numargs)) \n",
    "    i = start\n",
    "    while i <= stop:\n",
    "        yield i #the different between yield and return is that every time yield run it keeps continue through the loop\n",
    "        i+= step"
   ]
  },
  {
   "cell_type": "code",
   "execution_count": 6,
   "metadata": {},
   "outputs": [
    {
     "name": "stdout",
     "output_type": "stream",
     "text": [
      "This is the functions.py file.\n",
      "0 1 2 3 4 5 6 7 8 9 10 11 12 13 14 15 16 17 18 19 20 21 22 23 24 25 \n",
      "5 9 13 17 21 25 \n",
      "0 1 2 3 4 5 6 7 8 9 10 \n",
      "10 11 12 13 14 15 16 17 18 19 20 21 22 23 24 25 \n",
      "Please check number of argument(s) inclusive_range2 expected at most 3 arguments, got 4\n"
     ]
    }
   ],
   "source": [
    "if __name__ == \"__main__\": main()"
   ]
  },
  {
   "cell_type": "code",
   "execution_count": null,
   "metadata": {
    "collapsed": true
   },
   "outputs": [],
   "source": []
  }
 ],
 "metadata": {
  "kernelspec": {
   "display_name": "Python 3",
   "language": "python",
   "name": "python3"
  },
  "language_info": {
   "codemirror_mode": {
    "name": "ipython",
    "version": 3
   },
   "file_extension": ".py",
   "mimetype": "text/x-python",
   "name": "python",
   "nbconvert_exporter": "python",
   "pygments_lexer": "ipython3",
   "version": "3.5.3"
  }
 },
 "nbformat": 4,
 "nbformat_minor": 2
}
