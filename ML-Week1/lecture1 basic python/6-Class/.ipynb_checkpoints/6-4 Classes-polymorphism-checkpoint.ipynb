{
 "cells": [
  {
   "cell_type": "code",
   "execution_count": 1,
   "metadata": {
    "collapsed": true
   },
   "outputs": [],
   "source": [
    "class Duck:\n",
    "    def quack(self):\n",
    "        print('Quaaack!')\n",
    "\n",
    "    def walk(self):\n",
    "        print('Walks like a duck.')\n",
    "    \n",
    "    def bark(self): \n",
    "        print('The duck cannot bark')\n",
    "    \n",
    "    def fur(self):\n",
    "        print('The duck has feathers')"
   ]
  },
  {
   "cell_type": "code",
   "execution_count": 2,
   "metadata": {
    "collapsed": true
   },
   "outputs": [],
   "source": [
    "class Dog:\n",
    "    def bark(self):\n",
    "        print('Woof!')\n",
    "    \n",
    "    def fur(self):\n",
    "        print('The dog has brown and white fur')\n",
    "    \n",
    "    def walk(self):\n",
    "        print('Walk like a dog')\n",
    "        \n",
    "    def quack(self):\n",
    "        print('The dog cannot quack')"
   ]
  },
  {
   "cell_type": "code",
   "execution_count": 3,
   "metadata": {
    "collapsed": true
   },
   "outputs": [],
   "source": [
    "def main():\n",
    "    donald = Duck()\n",
    "    fido = Dog()\n",
    "    in_the_forest(donald)\n",
    "    in_the_pond(fido)"
   ]
  },
  {
   "cell_type": "code",
   "execution_count": 4,
   "metadata": {
    "collapsed": true
   },
   "outputs": [],
   "source": [
    "def in_the_forest(dog): #interface\n",
    "    dog.bark()\n",
    "    dog.fur()"
   ]
  },
  {
   "cell_type": "code",
   "execution_count": 5,
   "metadata": {
    "collapsed": true
   },
   "outputs": [],
   "source": [
    "def in_the_pond(duck):  #interface\n",
    "    duck.quack()\n",
    "    duck.walk() \n",
    "    '''\n",
    "    for o in (donald, fido):\n",
    "        o.quack()\n",
    "        o.walk()\n",
    "        o.bark()\n",
    "        o.fur()\n",
    "    '''"
   ]
  },
  {
   "cell_type": "code",
   "execution_count": 6,
   "metadata": {},
   "outputs": [
    {
     "name": "stdout",
     "output_type": "stream",
     "text": [
      "The duck cannot bark\n",
      "The duck has feathers\n",
      "The dog cannot quack\n",
      "Walk like a dog\n"
     ]
    }
   ],
   "source": [
    "if __name__ == \"__main__\": main()"
   ]
  },
  {
   "cell_type": "code",
   "execution_count": null,
   "metadata": {
    "collapsed": true
   },
   "outputs": [],
   "source": []
  }
 ],
 "metadata": {
  "kernelspec": {
   "display_name": "Python 3",
   "language": "python",
   "name": "python3"
  },
  "language_info": {
   "codemirror_mode": {
    "name": "ipython",
    "version": 3
   },
   "file_extension": ".py",
   "mimetype": "text/x-python",
   "name": "python",
   "nbconvert_exporter": "python",
   "pygments_lexer": "ipython3",
   "version": "3.5.3"
  }
 },
 "nbformat": 4,
 "nbformat_minor": 2
}
