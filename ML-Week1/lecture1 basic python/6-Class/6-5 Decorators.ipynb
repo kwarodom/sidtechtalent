{
 "cells": [
  {
   "cell_type": "code",
   "execution_count": 1,
   "metadata": {
    "collapsed": true
   },
   "outputs": [],
   "source": [
    "class inclusive_range: #include __iter__ in the class make it a generator and become iterable\n",
    "    #constructor\n",
    "    def __init__(self,*args):\n",
    "        numargs = len(args)\n",
    "        if numargs < 1: raise TypeError('requires at least one argument')\n",
    "        elif numargs == 1:\n",
    "            self.stop = args[0]\n",
    "            self.start = 0\n",
    "            self.step = 1\n",
    "        elif numargs == 2: \n",
    "            (self.start,self.stop)=args\n",
    "            self.step = 1\n",
    "        elif numargs == 3:\n",
    "            (self.start,self.stop, self.step)=args\n",
    "        else: raise TypeError('expected at most 3 arguments, got {}'.format(numargs))\n",
    "        \n",
    "    #generator\n",
    "    def __iter__(self):\n",
    "        i = self.start\n",
    "        while i<= self.stop:\n",
    "            yield i\n",
    "            i+=self.step"
   ]
  },
  {
   "cell_type": "code",
   "execution_count": 2,
   "metadata": {
    "collapsed": true
   },
   "outputs": [],
   "source": [
    "def main():\n",
    "    #call method 1\n",
    "    o = range(25) #start, stop, step\n",
    "    for i in o: print(i, end = ' ')\n",
    "    print()\n",
    "    \n",
    "    #call method 2\n",
    "    x = inclusive_range(5, 25, 7)\n",
    "    for i in x: print(i, end = ' ')\n",
    "    print()\n",
    "    \n",
    "    #call method 3\n",
    "    for i in inclusive_range(5, 25, 3): print(i, end=' ') #very useful when dealing with database application: query, retrieve\n"
   ]
  },
  {
   "cell_type": "code",
   "execution_count": 3,
   "metadata": {},
   "outputs": [
    {
     "name": "stdout",
     "output_type": "stream",
     "text": [
      "0 1 2 3 4 5 6 7 8 9 10 11 12 13 14 15 16 17 18 19 20 21 22 23 24 \n",
      "5 12 19 \n",
      "5 8 11 14 17 20 23 "
     ]
    }
   ],
   "source": [
    "if __name__ == \"__main__\": main()"
   ]
  },
  {
   "cell_type": "code",
   "execution_count": null,
   "metadata": {
    "collapsed": true
   },
   "outputs": [],
   "source": []
  }
 ],
 "metadata": {
  "kernelspec": {
   "display_name": "Python 3",
   "language": "python",
   "name": "python3"
  },
  "language_info": {
   "codemirror_mode": {
    "name": "ipython",
    "version": 3
   },
   "file_extension": ".py",
   "mimetype": "text/x-python",
   "name": "python",
   "nbconvert_exporter": "python",
   "pygments_lexer": "ipython3",
   "version": "3.6.2"
  }
 },
 "nbformat": 4,
 "nbformat_minor": 2
}
