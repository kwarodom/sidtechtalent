{
 "cells": [
  {
   "cell_type": "markdown",
   "metadata": {},
   "source": [
    "Condition : if elseif else"
   ]
  },
  {
   "cell_type": "code",
   "execution_count": 3,
   "metadata": {
    "collapsed": true
   },
   "outputs": [],
   "source": [
    "def main():\n",
    "    print(\"This is the conditionals.py file.\")\n",
    "    \n",
    "    a, b = 0, 1 \n",
    "    \n",
    "    if a<b:\n",
    "        print('this is true')\n",
    "    else:\n",
    "        print('this is not true')   \n",
    "        \n",
    "    v = 'on'\n",
    "    if v == 'one':\n",
    "        print('v is one')\n",
    "    elif v == 'two':\n",
    "        print('v is one')\n",
    "    elif v == 'three':\n",
    "        print('v is three')\n",
    "    else:\n",
    "        print('v is some other thing')\n",
    "        \n",
    "    a, b = 1, 1\n",
    "    if a < b:\n",
    "        v = 'this is true'\n",
    "    else:\n",
    "        v = 'this is not true'\n",
    "    print(v)    \n",
    "    \n",
    "    #the code above equal to this conditional expression\n",
    "    v = 'this is true' if a < b else 'this is not true'\n",
    "    print(v)"
   ]
  },
  {
   "cell_type": "code",
   "execution_count": 4,
   "metadata": {},
   "outputs": [
    {
     "name": "stdout",
     "output_type": "stream",
     "text": [
      "This is the conditionals.py file.\n",
      "this is true\n",
      "v is some other thing\n",
      "this is not true\n",
      "this is not true\n"
     ]
    }
   ],
   "source": [
    "if __name__ == \"__main__\": main()"
   ]
  },
  {
   "cell_type": "code",
   "execution_count": null,
   "metadata": {
    "collapsed": true
   },
   "outputs": [],
   "source": []
  }
 ],
 "metadata": {
  "kernelspec": {
   "display_name": "Python 3",
   "language": "python",
   "name": "python3"
  },
  "language_info": {
   "codemirror_mode": {
    "name": "ipython",
    "version": 3
   },
   "file_extension": ".py",
   "mimetype": "text/x-python",
   "name": "python",
   "nbconvert_exporter": "python",
   "pygments_lexer": "ipython3",
   "version": "3.5.3"
  }
 },
 "nbformat": 4,
 "nbformat_minor": 2
}
