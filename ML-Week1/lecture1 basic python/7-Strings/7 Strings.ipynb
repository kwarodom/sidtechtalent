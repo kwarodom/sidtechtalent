{
 "cells": [
  {
   "cell_type": "code",
   "execution_count": 1,
   "metadata": {
    "collapsed": true
   },
   "outputs": [],
   "source": [
    "import os"
   ]
  },
  {
   "cell_type": "code",
   "execution_count": 2,
   "metadata": {
    "collapsed": true
   },
   "outputs": [],
   "source": [
    "def main():\n",
    "    s = 'this is a string'\n",
    "    print(s.capitalize())\n",
    "    print(s.title())\n",
    "    print(s.upper())\n",
    "    print(s.swapcase())\n",
    "    print(s.find('is'))\n",
    "    print(s.replace('this', 'that'))\n",
    "    print(s.strip())\n",
    "    print(s.isalnum())\n",
    "    print(s.isalpha())\n",
    "    print(s.isdigit())\n",
    "    print(s.isprintable())\n",
    "    print(s.center(80))\n",
    "    print(s.isdecimal())\n",
    "    print(os.getcwd())"
   ]
  },
  {
   "cell_type": "code",
   "execution_count": 3,
   "metadata": {},
   "outputs": [
    {
     "name": "stdout",
     "output_type": "stream",
     "text": [
      "This is a string\n",
      "This Is A String\n",
      "THIS IS A STRING\n",
      "THIS IS A STRING\n",
      "2\n",
      "that is a string\n",
      "this is a string\n",
      "False\n",
      "False\n",
      "False\n",
      "True\n",
      "                                this is a string                                \n",
      "False\n",
      "/Users/tpponmat/myproject/basicpython/13 Strings\n"
     ]
    }
   ],
   "source": [
    "if __name__ == \"__main__\": main()"
   ]
  },
  {
   "cell_type": "code",
   "execution_count": null,
   "metadata": {
    "collapsed": true
   },
   "outputs": [],
   "source": []
  }
 ],
 "metadata": {
  "kernelspec": {
   "display_name": "Python 3",
   "language": "python",
   "name": "python3"
  },
  "language_info": {
   "codemirror_mode": {
    "name": "ipython",
    "version": 3
   },
   "file_extension": ".py",
   "mimetype": "text/x-python",
   "name": "python",
   "nbconvert_exporter": "python",
   "pygments_lexer": "ipython3",
   "version": "3.5.3"
  }
 },
 "nbformat": 4,
 "nbformat_minor": 2
}
