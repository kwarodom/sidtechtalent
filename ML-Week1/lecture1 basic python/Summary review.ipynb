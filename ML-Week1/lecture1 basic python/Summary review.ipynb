{
 "cells": [
  {
   "cell_type": "markdown",
   "metadata": {},
   "source": [
    "Hello, World!"
   ]
  },
  {
   "cell_type": "code",
   "execution_count": null,
   "metadata": {},
   "outputs": [],
   "source": [
    "print(\"Hello, World!\")"
   ]
  },
  {
   "cell_type": "markdown",
   "metadata": {},
   "source": [
    "Variable"
   ]
  },
  {
   "cell_type": "code",
   "execution_count": null,
   "metadata": {
    "collapsed": true
   },
   "outputs": [],
   "source": [
    "a = 0\n",
    "b = 1\n",
    "# a, b = 0, 1"
   ]
  },
  {
   "cell_type": "code",
   "execution_count": null,
   "metadata": {},
   "outputs": [],
   "source": [
    "print (a)\n",
    "print (b)\n",
    "print (a+b)"
   ]
  },
  {
   "cell_type": "markdown",
   "metadata": {},
   "source": [
    "Condition"
   ]
  },
  {
   "cell_type": "code",
   "execution_count": null,
   "metadata": {},
   "outputs": [],
   "source": [
    "if a < b:\n",
    "    print('a ({}) is less than b ({})'.format(a, b))\n",
    "else:\n",
    "    print('a ({}) is not less than b ({})'.format(a, b))\n"
   ]
  },
  {
   "cell_type": "markdown",
   "metadata": {},
   "source": [
    "Import Files: Import library for python."
   ]
  },
  {
   "cell_type": "code",
   "execution_count": null,
   "metadata": {
    "collapsed": true
   },
   "outputs": [],
   "source": [
    "fh = open('lines.txt')"
   ]
  },
  {
   "cell_type": "markdown",
   "metadata": {},
   "source": [
    "Forloop"
   ]
  },
  {
   "cell_type": "code",
   "execution_count": null,
   "metadata": {},
   "outputs": [],
   "source": [
    "for line in fh.readlines():\n",
    "    print(line)"
   ]
  },
  {
   "cell_type": "markdown",
   "metadata": {},
   "source": [
    "Whileloop"
   ]
  },
  {
   "cell_type": "code",
   "execution_count": null,
   "metadata": {},
   "outputs": [],
   "source": [
    "while b < 50:\n",
    "    print(b)\n",
    "    a, b = b, a + b"
   ]
  },
  {
   "cell_type": "markdown",
   "metadata": {},
   "source": [
    "Function"
   ]
  },
  {
   "cell_type": "code",
   "execution_count": null,
   "metadata": {
    "collapsed": true
   },
   "outputs": [],
   "source": [
    "def isprime(n):\n",
    "    if n == 1:\n",
    "        print(\"1 is special\")\n",
    "        return False\n",
    "    for x in range(2, n):\n",
    "        if n % x == 0:\n",
    "            print(\"{} equals {} x {}\".format(n, x, n // x))\n",
    "            return False\n",
    "    else:\n",
    "        print(n, \"is a prime number\")\n",
    "        return True"
   ]
  },
  {
   "cell_type": "code",
   "execution_count": null,
   "metadata": {
    "scrolled": true
   },
   "outputs": [],
   "source": [
    "for n in range(1, 20):\n",
    "    isprime(n)"
   ]
  },
  {
   "cell_type": "raw",
   "metadata": {},
   "source": [
    "Generator python: call function"
   ]
  },
  {
   "cell_type": "code",
   "execution_count": null,
   "metadata": {},
   "outputs": [],
   "source": [
    "def isprime(n):\n",
    "    if n == 1:\n",
    "        return False\n",
    "    for x in range(2, n):\n",
    "        if n % x == 0:\n",
    "            return False\n",
    "    else:\n",
    "        return True"
   ]
  },
  {
   "cell_type": "code",
   "execution_count": null,
   "metadata": {
    "collapsed": true
   },
   "outputs": [],
   "source": [
    "def primes(n = 1):\n",
    "   while(True):\n",
    "       if isprime(n): yield n\n",
    "       n += 1 "
   ]
  },
  {
   "cell_type": "code",
   "execution_count": null,
   "metadata": {
    "collapsed": true
   },
   "outputs": [],
   "source": [
    "for n in primes():\n",
    "    if n > 100: break\n",
    "    print(n)"
   ]
  },
  {
   "cell_type": "markdown",
   "metadata": {},
   "source": [
    "Simple example : Case 1"
   ]
  },
  {
   "cell_type": "code",
   "execution_count": null,
   "metadata": {},
   "outputs": [],
   "source": [
    "class Fibonacci():\n",
    "    def __init__(self, a, b):\n",
    "        self.a = a\n",
    "        self.b = b\n",
    "\n",
    "    def series(self):\n",
    "        while(True):\n",
    "            yield(self.b)\n",
    "            self.a, self.b = self.b, self.a + self.b"
   ]
  },
  {
   "cell_type": "code",
   "execution_count": null,
   "metadata": {
    "collapsed": true
   },
   "outputs": [],
   "source": [
    "f = Fibonacci(0, 1)"
   ]
  },
  {
   "cell_type": "code",
   "execution_count": null,
   "metadata": {
    "collapsed": true
   },
   "outputs": [],
   "source": [
    "for r in f.series():\n",
    "    if r > 100: break    \n",
    "    print(r, end=' ')"
   ]
  },
  {
   "cell_type": "markdown",
   "metadata": {},
   "source": [
    "Simple example : Case 2"
   ]
  },
  {
   "cell_type": "code",
   "execution_count": null,
   "metadata": {},
   "outputs": [],
   "source": [
    "class AnimalActions:\n",
    "    def quack(self): return self.strings['quack']\n",
    "    def feathers(self): return self.strings['feathers']\n",
    "    def bark(self): return self.strings['bark']\n",
    "    def fur(self): return self.strings['fur']"
   ]
  },
  {
   "cell_type": "code",
   "execution_count": null,
   "metadata": {
    "collapsed": true
   },
   "outputs": [],
   "source": [
    "class Duck(AnimalActions):\n",
    "    strings = dict(\n",
    "        quack = \"Quaaaaak!\",\n",
    "        feathers = \"The duck has gray and white feathers.\",\n",
    "        bark = \"The duck cannot bark.\",\n",
    "        fur = \"The duck has no fur.\"\n",
    "    )"
   ]
  },
  {
   "cell_type": "code",
   "execution_count": null,
   "metadata": {
    "collapsed": true
   },
   "outputs": [],
   "source": [
    "class Person(AnimalActions):\n",
    "    strings = dict(\n",
    "        quack = \"The person imitates a duck.\",\n",
    "        feathers = \"The person takes a feather from the ground and shows it.\",\n",
    "        bark = \"The person says woof!\",\n",
    "        fur = \"The person puts on a fur coat.\"\n",
    "    )"
   ]
  },
  {
   "cell_type": "code",
   "execution_count": null,
   "metadata": {
    "collapsed": true
   },
   "outputs": [],
   "source": [
    "class Dog(AnimalActions):\n",
    "    strings = dict(\n",
    "        quack = \"The dog cannot quack.\",\n",
    "        feathers = \"The dog has no feathers.\",\n",
    "        bark = \"Arf!\",\n",
    "        fur = \"The dog has white fur with black spots.\"\n",
    "    )"
   ]
  },
  {
   "cell_type": "code",
   "execution_count": null,
   "metadata": {
    "collapsed": true
   },
   "outputs": [],
   "source": [
    "def in_the_doghouse(dog):\n",
    "    print(dog.bark())\n",
    "    print(dog.fur())"
   ]
  },
  {
   "cell_type": "code",
   "execution_count": null,
   "metadata": {
    "collapsed": true
   },
   "outputs": [],
   "source": [
    "def in_the_forest(duck):\n",
    "    print(duck.quack())\n",
    "    print(duck.feathers())"
   ]
  },
  {
   "cell_type": "code",
   "execution_count": null,
   "metadata": {
    "collapsed": true
   },
   "outputs": [],
   "source": [
    "def main():\n",
    "    donald = Duck()\n",
    "    john = Person()\n",
    "    fido = Dog()\n",
    "\n",
    "    print(\"- In the forest:\")\n",
    "    for o in ( donald, john, fido ):\n",
    "        in_the_forest(o)\n",
    "\n",
    "    print(\"- In the doghouse:\")\n",
    "    for o in ( donald, john, fido ):\n",
    "        in_the_doghouse(o)"
   ]
  },
  {
   "cell_type": "code",
   "execution_count": null,
   "metadata": {
    "collapsed": true
   },
   "outputs": [],
   "source": [
    "if __name__ == \"__main__\": main()"
   ]
  },
  {
   "cell_type": "markdown",
   "metadata": {},
   "source": [
    "Simple example : Case 3"
   ]
  },
  {
   "cell_type": "code",
   "execution_count": null,
   "metadata": {},
   "outputs": [],
   "source": [
    "class AnimalActions:\n",
    "    def bark(self): return self._doAction('bark')\n",
    "    def fur(self): return self._doAction('fur')\n",
    "    def quack(self): return self._doAction('quack')\n",
    "    def feathers(self): return self._doAction('feathers')\n",
    "\n",
    "    def _doAction(self, action):\n",
    "        if action in self.strings:\n",
    "            return self.strings[action]\n",
    "        else:\n",
    "            return 'The {} has no {}'.format(self.animalName(), action)\n",
    "\n",
    "    def animalName(self):\n",
    "        return self.__class__.__name__.lower()"
   ]
  },
  {
   "cell_type": "markdown",
   "metadata": {},
   "source": [
    "# -- MODEL -- "
   ]
  },
  {
   "cell_type": "code",
   "execution_count": null,
   "metadata": {
    "collapsed": true
   },
   "outputs": [],
   "source": [
    "class Duck(AnimalActions):\n",
    "    strings = dict(\n",
    "        quack = \"Quaaaaak!\",\n",
    "        feathers = \"The duck has gray and white feathers.\"\n",
    "    )"
   ]
  },
  {
   "cell_type": "code",
   "execution_count": null,
   "metadata": {
    "collapsed": true
   },
   "outputs": [],
   "source": [
    "class Person(AnimalActions):\n",
    "    strings = dict(\n",
    "        bark = \"The person says woof!\",\n",
    "        fur = \"The person puts on a fur coat.\",\n",
    "        quack = \"The person imitates a duck.\",\n",
    "        feathers = \"The person takes a feather from the ground and shows it.\"\n",
    "    )"
   ]
  },
  {
   "cell_type": "code",
   "execution_count": null,
   "metadata": {
    "collapsed": true
   },
   "outputs": [],
   "source": [
    "class Dog(AnimalActions):\n",
    "    strings = dict(\n",
    "        bark = \"Arf!\",\n",
    "        fur = \"The dog has white fur with black spots.\",\n",
    "    )"
   ]
  },
  {
   "cell_type": "markdown",
   "metadata": {},
   "source": [
    "# -- CONTROLLER -- "
   ]
  },
  {
   "cell_type": "code",
   "execution_count": null,
   "metadata": {
    "collapsed": true
   },
   "outputs": [],
   "source": [
    "def in_the_doghouse(dog):\n",
    "    print(dog.bark())\n",
    "    print(dog.fur())"
   ]
  },
  {
   "cell_type": "code",
   "execution_count": null,
   "metadata": {
    "collapsed": true
   },
   "outputs": [],
   "source": [
    "def in_the_forest(duck):\n",
    "    print(duck.quack())\n",
    "    print(duck.feathers())"
   ]
  },
  {
   "cell_type": "code",
   "execution_count": null,
   "metadata": {
    "collapsed": true
   },
   "outputs": [],
   "source": [
    "def main():\n",
    "    donald = Duck()\n",
    "    john = Person()\n",
    "    fido = Dog()\n",
    "\n",
    "    print(\"-- In the forest:\")\n",
    "    for o in ( donald, john, fido ):\n",
    "        in_the_forest(o)\n",
    "\n",
    "    print(\"-- In the doghouse:\")\n",
    "    for o in ( donald, john, fido ):\n",
    "        in_the_doghouse(o)"
   ]
  },
  {
   "cell_type": "code",
   "execution_count": null,
   "metadata": {
    "collapsed": true
   },
   "outputs": [],
   "source": [
    "if __name__ == \"__main__\": main()"
   ]
  }
 ],
 "metadata": {
  "kernelspec": {
   "display_name": "Python 3",
   "language": "python",
   "name": "python3"
  },
  "language_info": {
   "codemirror_mode": {
    "name": "ipython",
    "version": 3
   },
   "file_extension": ".py",
   "mimetype": "text/x-python",
   "name": "python",
   "nbconvert_exporter": "python",
   "pygments_lexer": "ipython3",
   "version": "3.6.2"
  }
 },
 "nbformat": 4,
 "nbformat_minor": 2
}
