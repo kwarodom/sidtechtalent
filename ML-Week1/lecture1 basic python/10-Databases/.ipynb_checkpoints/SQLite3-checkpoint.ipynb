{
 "cells": [
  {
   "cell_type": "code",
   "execution_count": 14,
   "metadata": {
    "collapsed": true
   },
   "outputs": [],
   "source": [
    "import sqlite3\n",
    "\n",
    "__version__ = \"1.1.0\""
   ]
  },
  {
   "cell_type": "code",
   "execution_count": 15,
   "metadata": {
    "collapsed": true
   },
   "outputs": [],
   "source": [
    "class database:\n",
    "    def __init__(self, **kwargs):\n",
    "        self.filename = kwargs.get('filename')\n",
    "        self.table = kwargs.get('table', 'test')\n",
    "    \n",
    "    def sql_do(self, sql, *params):\n",
    "        self._db.execute(sql, params)\n",
    "        self._db.commit()\n",
    "    \n",
    "    def insert(self, row):\n",
    "        self._db.execute('insert into {} (t1, i1) values (?, ?)'.format(self._table), (row['t1'], row['i1']))\n",
    "        self._db.commit()\n",
    "    \n",
    "    def retrieve(self, key):\n",
    "        cursor = self._db.execute('select * from {} where t1 = ?'.format(self._table), (key,))\n",
    "        return dict(cursor.fetchone())\n",
    "    \n",
    "    def update(self, row):\n",
    "        self._db.execute(\n",
    "            'update {} set i1 = ? where t1 = ?'.format(self._table),\n",
    "            (row['i1'], row['t1']))\n",
    "        self._db.commit()\n",
    "    \n",
    "    def delete(self, key):\n",
    "        self._db.execute('delete from {} where t1 = ?'.format(self._table), (key,))\n",
    "        self._db.commit()\n",
    "\n",
    "    def disp_rows(self):\n",
    "        cursor = self._db.execute('select * from {} order by t1'.format(self._table))\n",
    "        for row in cursor:\n",
    "            print('  {}: {}'.format(row['t1'], row['i1']))\n",
    "\n",
    "    def __iter__(self):\n",
    "        cursor = self._db.execute('select * from {} order by t1'.format(self._table))\n",
    "        for row in cursor:\n",
    "            yield dict(row)\n",
    "\n",
    "    @property\n",
    "    def filename(self): return self._filename\n",
    "\n",
    "    @filename.setter\n",
    "    def filename(self, fn):\n",
    "        self._filename = fn\n",
    "        self._db = sqlite3.connect(fn)\n",
    "        self._db.row_factory = sqlite3.Row\n",
    "\n",
    "    @filename.deleter\n",
    "    def filename(self): self.close()\n",
    "\n",
    "    @property\n",
    "    def table(self): return self._table\n",
    "    @table.setter\n",
    "    def table(self, t): self._table = t\n",
    "    @table.deleter\n",
    "    def table(self): self._table = 'test'\n",
    "\n",
    "    def close(self):\n",
    "            self._db.close()\n",
    "            del self._filename"
   ]
  },
  {
   "cell_type": "code",
   "execution_count": 16,
   "metadata": {},
   "outputs": [
    {
     "name": "stdout",
     "output_type": "stream",
     "text": [
      "Create table test\n",
      "Create rows\n",
      "{'t1': 'four', 'i1': 4}\n",
      "{'t1': 'one', 'i1': 1}\n",
      "{'t1': 'three', 'i1': 3}\n",
      "{'t1': 'two', 'i1': 2}\n",
      "Retrieve rows\n",
      "{'t1': 'one', 'i1': 1} {'t1': 'two', 'i1': 2}\n",
      "Update rows\n",
      "{'t1': 'four', 'i1': 4}\n",
      "{'t1': 'one', 'i1': 101}\n",
      "{'t1': 'three', 'i1': 103}\n",
      "{'t1': 'two', 'i1': 2}\n",
      "Delete rows\n",
      "{'t1': 'four', 'i1': 4}\n",
      "{'t1': 'two', 'i1': 2}\n"
     ]
    }
   ],
   "source": [
    "def main():\n",
    "    db = database(filename = 'test.db', table = 'test')\n",
    "\n",
    "    print('Create table test')\n",
    "    db.sql_do('drop table if exists test')\n",
    "    db.sql_do('create table test ( t1 text, i1 int )')\n",
    "\n",
    "    print('Create rows')\n",
    "    db.insert(dict(t1 = 'one', i1 = 1))\n",
    "    db.insert(dict(t1 = 'two', i1 = 2))\n",
    "    db.insert(dict(t1 = 'three', i1 = 3))\n",
    "    db.insert(dict(t1 = 'four', i1 = 4))\n",
    "    for row in db: print(row)\n",
    "\n",
    "    print('Retrieve rows')\n",
    "    print(db.retrieve('one'), db.retrieve('two'))\n",
    "\n",
    "    print('Update rows')\n",
    "    db.update(dict(t1 = 'one', i1 = 101))\n",
    "    db.update(dict(t1 = 'three', i1 = 103))\n",
    "    for row in db: print(row)\n",
    "\n",
    "    print('Delete rows')\n",
    "    db.delete('one')\n",
    "    db.delete('three')\n",
    "    for row in db: print(row)\n",
    "\n",
    "if __name__ == \"__main__\": main()"
   ]
  },
  {
   "cell_type": "code",
   "execution_count": null,
   "metadata": {
    "collapsed": true
   },
   "outputs": [],
   "source": []
  }
 ],
 "metadata": {
  "kernelspec": {
   "display_name": "Python 3",
   "language": "python",
   "name": "python3"
  },
  "language_info": {
   "codemirror_mode": {
    "name": "ipython",
    "version": 3
   },
   "file_extension": ".py",
   "mimetype": "text/x-python",
   "name": "python",
   "nbconvert_exporter": "python",
   "pygments_lexer": "ipython3",
   "version": "3.6.2"
  }
 },
 "nbformat": 4,
 "nbformat_minor": 2
}
