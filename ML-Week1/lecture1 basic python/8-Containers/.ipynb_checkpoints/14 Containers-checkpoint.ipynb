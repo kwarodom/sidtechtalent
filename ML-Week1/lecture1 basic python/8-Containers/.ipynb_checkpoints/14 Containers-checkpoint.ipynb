{
 "cells": [
  {
   "cell_type": "code",
   "execution_count": 1,
   "metadata": {
    "collapsed": true
   },
   "outputs": [],
   "source": [
    "def main():\n",
    "    print('This is the containers.py file.')\n",
    "    fin = open('utf8.txt','r',encoding='utf_8')\n",
    "    fout = open('utf8.html','w')\n",
    "    outbytes = bytearray()\n",
    "    for line in fin: \n",
    "        for c in line:\n",
    "            if ord(c) > 127: #if character is outside of the ascii range\n",
    "                outbytes += bytes('&#{:04d};'.format(ord(c)), encoding='utf_8')\n",
    "            else:\n",
    "                outbytes.append(ord(c))\n",
    "    outstr = str(outbytes, encoding = 'utf_8')\n",
    "    print(outstr, file = fout)\n",
    "    print(outstr)\n",
    "    print('Done.')"
   ]
  },
  {
   "cell_type": "code",
   "execution_count": 2,
   "metadata": {},
   "outputs": [
    {
     "name": "stdout",
     "output_type": "stream",
     "text": [
      "This is the containers.py file.\n",
      "This is a UTF-8 file. \n",
      "It has some interesting characters in it. \n",
      "&#1641;(&#0865;&#3663;&#0815;&#0865;&#3663;)&#1782;\n",
      "\n",
      "Done.\n"
     ]
    }
   ],
   "source": [
    "if __name__ == \"__main__\": main()"
   ]
  },
  {
   "cell_type": "code",
   "execution_count": null,
   "metadata": {
    "collapsed": true
   },
   "outputs": [],
   "source": []
  }
 ],
 "metadata": {
  "kernelspec": {
   "display_name": "Python 3",
   "language": "python",
   "name": "python3"
  },
  "language_info": {
   "codemirror_mode": {
    "name": "ipython",
    "version": 3
   },
   "file_extension": ".py",
   "mimetype": "text/x-python",
   "name": "python",
   "nbconvert_exporter": "python",
   "pygments_lexer": "ipython3",
   "version": "3.6.2"
  }
 },
 "nbformat": 4,
 "nbformat_minor": 2
}
