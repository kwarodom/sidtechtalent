{
 "cells": [
  {
   "cell_type": "code",
   "execution_count": 1,
   "metadata": {},
   "outputs": [],
   "source": [
    "import pandas\n",
    "from sklearn import model_selection\n",
    "from sklearn.ensemble import RandomForestClassifier, GradientBoostingClassifier\n",
    "from sklearn.model_selection import GridSearchCV\n",
    "from sklearn.metrics import accuracy_score\n",
    "from sklearn.model_selection import train_test_split"
   ]
  },
  {
   "cell_type": "markdown",
   "metadata": {},
   "source": [
    "## Load data and split the data"
   ]
  },
  {
   "cell_type": "code",
   "execution_count": 2,
   "metadata": {},
   "outputs": [],
   "source": [
    "url = \"https://archive.ics.uci.edu/ml/machine-learning-databases/pima-indians-diabetes/pima-indians-diabetes.data\"\n",
    "names = ['preg', 'plas', 'pres', 'skin', 'test', 'mass', 'pedi', 'age', 'class']\n",
    "dataframe = pandas.read_csv(url, names=names)\n",
    "array = dataframe.values\n",
    "X = array[:,0:8]\n",
    "y = array[:,8]"
   ]
  },
  {
   "cell_type": "code",
   "execution_count": 3,
   "metadata": {
    "collapsed": true
   },
   "outputs": [],
   "source": [
    "X_train, X_test, y_train, y_test = \\\n",
    "    train_test_split(X, y, \n",
    "                     test_size=0.20,\n",
    "                     stratify=y,\n",
    "                     random_state=1)"
   ]
  },
  {
   "cell_type": "markdown",
   "metadata": {},
   "source": [
    "## Tuning RandomForest"
   ]
  },
  {
   "cell_type": "code",
   "execution_count": 4,
   "metadata": {},
   "outputs": [
    {
     "name": "stdout",
     "output_type": "stream",
     "text": [
      "0.781758957655\n",
      "{'max_depth': 5, 'n_estimators': 10}\n"
     ]
    }
   ],
   "source": [
    "rf = RandomForestClassifier()\n",
    "\n",
    "param_grid_rf = [{'n_estimators': [10, 20, 50], 'max_depth': [5, 10]}]\n",
    "\n",
    "gs_rf = GridSearchCV(estimator=rf, \n",
    "                  param_grid=param_grid_rf, \n",
    "                  scoring='accuracy', \n",
    "                  cv=10,\n",
    "                  refit=True)\n",
    "\n",
    "gs_rf = gs_rf.fit(X_train, y_train)\n",
    "\n",
    "print(gs_rf.best_score_)\n",
    "print(gs_rf.best_params_)"
   ]
  },
  {
   "cell_type": "markdown",
   "metadata": {},
   "source": [
    "## Tuning Gradient Boosting Trees"
   ]
  },
  {
   "cell_type": "code",
   "execution_count": 5,
   "metadata": {},
   "outputs": [
    {
     "name": "stdout",
     "output_type": "stream",
     "text": [
      "0.755700325733\n",
      "{'learning_rate': 0.1, 'max_depth': 5, 'n_estimators': 20}\n"
     ]
    }
   ],
   "source": [
    "gbt = GradientBoostingClassifier()\n",
    "\n",
    "param_grid_gbt = [{'n_estimators': [10, 20, 50], 'max_depth': [5, 10], 'learning_rate': [0.1, 0.01]}]\n",
    "\n",
    "gs_gbt = GridSearchCV(estimator=gbt, \n",
    "                  param_grid=param_grid_gbt, \n",
    "                  scoring='accuracy', \n",
    "                  cv=10,\n",
    "                  refit=True)\n",
    "\n",
    "gs_gbt = gs_gbt.fit(X_train, y_train)\n",
    "\n",
    "print(gs_gbt.best_score_)\n",
    "print(gs_gbt.best_params_)"
   ]
  },
  {
   "cell_type": "code",
   "execution_count": 6,
   "metadata": {
    "collapsed": true
   },
   "outputs": [],
   "source": [
    "#select best estimator for each algorithm\n",
    "best_rf = gs_rf.best_estimator_\n",
    "best_gbt = gs_gbt.best_estimator_"
   ]
  },
  {
   "cell_type": "markdown",
   "metadata": {},
   "source": [
    "## Obtain test set performance"
   ]
  },
  {
   "cell_type": "code",
   "execution_count": 7,
   "metadata": {},
   "outputs": [
    {
     "name": "stdout",
     "output_type": "stream",
     "text": [
      "Training Error\n",
      "Random Forest Train Accuracy: 0.845\n",
      "Gradient Boosting Trees Train Accuracy: 0.930\n",
      "---------------\n",
      "Testing Error\n",
      "Random Forest Test Accuracy: 0.753\n",
      "Gradient Boosting Trees Test Accuracy: 0.727\n"
     ]
    }
   ],
   "source": [
    "y_pred_rf_test = best_rf.predict(X_test)\n",
    "y_pred_gbt_test = best_gbt.predict(X_test)\n",
    "\n",
    "y_pred_rf_train = best_rf.predict(X_train)\n",
    "y_pred_gbt_train = best_gbt.predict(X_train)\n",
    "\n",
    "print(\"Training Error\")\n",
    "print('Random Forest Train Accuracy: %.3f' % accuracy_score(y_true=y_train, y_pred=y_pred_rf_train))\n",
    "print('Gradient Boosting Trees Train Accuracy: %.3f' % accuracy_score(y_true=y_train, y_pred=y_pred_gbt_train))\n",
    "print(\"---------------\")\n",
    "print(\"Testing Error\")\n",
    "print('Random Forest Test Accuracy: %.3f' % accuracy_score(y_true=y_test, y_pred=y_pred_rf_test))\n",
    "print('Gradient Boosting Trees Test Accuracy: %.3f' % accuracy_score(y_true=y_test, y_pred=y_pred_gbt_test))"
   ]
  }
 ],
 "metadata": {
  "kernelspec": {
   "display_name": "Python 3",
   "language": "python",
   "name": "python3"
  },
  "language_info": {
   "codemirror_mode": {
    "name": "ipython",
    "version": 3
   },
   "file_extension": ".py",
   "mimetype": "text/x-python",
   "name": "python",
   "nbconvert_exporter": "python",
   "pygments_lexer": "ipython3",
   "version": "3.6.1"
  }
 },
 "nbformat": 4,
 "nbformat_minor": 2
}
